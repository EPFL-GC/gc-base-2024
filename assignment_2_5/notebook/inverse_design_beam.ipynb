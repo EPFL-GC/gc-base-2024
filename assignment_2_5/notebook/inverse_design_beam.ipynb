{
 "cells": [
  {
   "cell_type": "code",
   "execution_count": null,
   "metadata": {},
   "outputs": [],
   "source": [
    "import numpy as np\n",
    "import torch\n",
    "import igl\n",
    "import time\n",
    "\n",
    "import meshplot as mp\n",
    "import sys as _sys\n",
    "_sys.path.append(\"../src\")\n",
    "from fem_system import *\n",
    "from elastic_energy import *\n",
    "from adjoint_sensitivity import *\n",
    "from objectives import *\n",
    "from harmonic_interpolator import *\n",
    "from shape_optimizer import *\n",
    "import matplotlib.pyplot as plt\n",
    "from create_vol_cube import create_vol_cube\n",
    "\n",
    "from utils import *\n",
    "\n",
    "shadingOptions = {\n",
    "    \"flat\":True,\n",
    "    \"wireframe\":False,   \n",
    "}\n",
    "\n",
    "rot = torch.tensor(\n",
    "    [[1.0,  0.0, 0.0],\n",
    "     [0.0,  0.0, 1.0],\n",
    "     [0.0, -1.0, 0.0]]\n",
    ")\n",
    "\n",
    "torch.set_default_dtype(torch.float64)\n",
    "\n",
    "def to_numpy(tensor):\n",
    "    return tensor.detach().clone().numpy()"
   ]
  },
  {
   "cell_type": "markdown",
   "metadata": {},
   "source": [
    "# Create the deformed object\n",
    "\n",
    "## Load the mesh"
   ]
  },
  {
   "cell_type": "code",
   "execution_count": null,
   "metadata": {},
   "outputs": [],
   "source": [
    "# v, _, _, t, _, _ = igl.read_obj(\"../data/beam.obj\")\n",
    "v, t = create_vol_cube(8, 2, 2)\n",
    "v[:, 0] *= 4\n",
    "v = torch.tensor(v)\n",
    "t = torch.tensor(t)\n",
    "\n",
    "aabb = torch.max(v, dim=0).values - torch.min(v, dim=0).values\n",
    "length_scale = torch.mean(aabb)\n",
    "\n",
    "be = igl.edges(igl.boundary_facets(to_numpy(t)))\n",
    "e = igl.edges(to_numpy(t))\n",
    "bv = np.unique(igl.boundary_facets(to_numpy(t))).astype(np.int64)\n",
    "iv = np.array([idx for idx in range(v.shape[0]) if not idx in bv]).astype(np.int64)\n",
    "convertBV = {bv[i].item():i for i in range(bv.shape[0])}\n",
    "beTarget = np.array([[convertBV[bEdge[0]], convertBV[bEdge[1]]] for bEdge in be])\n",
    "\n",
    "# p = mp.plot(to_numpy(v @ rot.T), to_numpy(t), shading=shadingOptions)"
   ]
  },
  {
   "cell_type": "markdown",
   "metadata": {},
   "source": [
    "## Add some physical characteristics"
   ]
  },
  {
   "cell_type": "code",
   "execution_count": null,
   "metadata": {},
   "outputs": [],
   "source": [
    "rho     = 5e2 # [kg.m-3]\n",
    "damping = 0.0\n",
    "young   = 2e5 # [Pa] \n",
    "poisson = 0.2\n",
    "\n",
    "# Find some of the lowest vertices and pin them\n",
    "minX    = torch.min(v[:, 0])\n",
    "pin_idx = list(torch.arange(v.shape[0])[v[:, 0] < minX + 0.2*aabb[0]])\n",
    "vIdx  = np.arange(v.shape[0])\n",
    "pin_idx  = vIdx[np.in1d(vIdx, bv) & np.in1d(vIdx, pin_idx)]\n",
    "print(\"Pinned vertices: {}\".format(pin_idx))"
   ]
  },
  {
   "cell_type": "markdown",
   "metadata": {},
   "source": [
    "# Initial guess\n",
    "\n",
    "The idea is that we start deforming the mesh by inverting gravity."
   ]
  },
  {
   "cell_type": "code",
   "execution_count": null,
   "metadata": {},
   "outputs": [],
   "source": [
    "# Inverted gravity\n",
    "force_mass = torch.zeros(size=(3,))\n",
    "force_mass[2] = + 9.81\n",
    "\n",
    "# Gravity going in the wrong direction\n",
    "\n",
    "ee = NeoHookeanElasticEnergy(young, poisson)\n",
    "v = HarmonicInterpolator(v, t, iv).interpolate(v[bv])\n",
    "solid_init = FEMSystem(v, t, ee, rho=rho, pin_idx=pin_idx, f_mass=force_mass)\n",
    "\n",
    "v_init_eq = solid_init.find_equilibrium(v)\n",
    "plot_torch_solid(solid_init, v_init_eq, be, rot, length_scale)\n",
    "\n",
    "# Use these as initial guesses\n",
    "v_init_rest = v_init_eq.clone().detach()\n",
    "v_init_def  = solid_init.v_rest.clone().detach()\n",
    "\n",
    "# v_init_rest = solid_init.v_rest.clone().detach()\n",
    "# v_init_def  = solid_init.v_def.clone().detach()"
   ]
  },
  {
   "cell_type": "markdown",
   "metadata": {},
   "source": [
    "# Inverse design\n"
   ]
  },
  {
   "cell_type": "code",
   "execution_count": null,
   "metadata": {},
   "outputs": [],
   "source": [
    "force_mass = torch.zeros(size=(3,))\n",
    "force_mass[2] = - 9.81\n",
    "use_linear  = False\n",
    "\n",
    "# The target is the initial raw mesh\n",
    "vt_surf = v[bv, :].clone()\n",
    "\n",
    "# Create solid\n",
    "if use_linear:\n",
    "    ee = LinearElasticEnergy(young, poisson)\n",
    "else:\n",
    "    ee = NeoHookeanElasticEnergy(young, poisson)\n",
    "solid_ = FEMSystem(v_init_rest, t, ee, rho=rho, pin_idx=pin_idx, f_mass=force_mass)\n",
    "\n",
    "optimizer = ShapeOptimizer(solid_, v_init_def, vt_surf, bv, be, beTarget, weight_reg=1.0, force_thresh=1e-3)\n",
    "\n",
    "v_eq_init = optimizer.v_eq.clone().detach() #bookkeeping"
   ]
  },
  {
   "cell_type": "code",
   "execution_count": null,
   "metadata": {},
   "outputs": [],
   "source": [
    "initial_rest = optimizer.solid.v_rest\n",
    "initial_eq = optimizer.v_eq"
   ]
  },
  {
   "cell_type": "code",
   "execution_count": null,
   "metadata": {},
   "outputs": [],
   "source": [
    "optimizer.optimize(step_size_init=1.0e-2, max_l_iter=10, n_optim_steps=100)"
   ]
  },
  {
   "cell_type": "code",
   "execution_count": null,
   "metadata": {},
   "outputs": [],
   "source": [
    "final_rest = optimizer.solid.v_rest\n",
    "final_eq = optimizer.v_eq"
   ]
  },
  {
   "cell_type": "code",
   "execution_count": null,
   "metadata": {},
   "outputs": [],
   "source": [
    "p = mp.plot(to_numpy(optimizer.v_eq @ rot.T), to_numpy(optimizer.solid.tet), shading=shadingOptions)\n",
    "p.add_edges(to_numpy(initial_rest @ rot.T), be, shading={\"line_color\": 'blue'})\n",
    "p.add_edges(to_numpy(final_rest @ rot.T), be, shading={\"line_color\": 'red'})"
   ]
  },
  {
   "cell_type": "markdown",
   "metadata": {},
   "source": [
    "### Before optimization"
   ]
  },
  {
   "cell_type": "code",
   "execution_count": null,
   "metadata": {},
   "outputs": [],
   "source": [
    "force_mass = torch.zeros(size=(3,))\n",
    "force_mass[2] = - 9.81\n",
    "\n",
    "# Gravity going in the wrong direction\n",
    "\n",
    "ee = NeoHookeanElasticEnergy(young, poisson)\n",
    "v = HarmonicInterpolator(v, t, iv).interpolate(v[bv])\n",
    "solid_init = FEMSystem(v, t, ee, rho=rho, pin_idx=pin_idx, f_mass=force_mass)\n",
    "\n",
    "solid_init.update_rest_shape(initial_rest)\n",
    "v_init_eq = solid_init.find_equilibrium(v)\n",
    "plot_torch_solid(solid_init, v_init_eq, be, rot, length_scale)"
   ]
  },
  {
   "cell_type": "markdown",
   "metadata": {},
   "source": [
    "### After optimization"
   ]
  },
  {
   "cell_type": "code",
   "execution_count": null,
   "metadata": {},
   "outputs": [],
   "source": [
    "force_mass = torch.zeros(size=(3,))\n",
    "force_mass[2] = - 9.81\n",
    "\n",
    "# Gravity going in the wrong direction\n",
    "\n",
    "ee = NeoHookeanElasticEnergy(young, poisson)\n",
    "v = HarmonicInterpolator(v, t, iv).interpolate(v[bv])\n",
    "solid_init = FEMSystem(v, t, ee, rho=rho, pin_idx=pin_idx, f_mass=force_mass)\n",
    "\n",
    "solid_init.update_rest_shape(final_rest)\n",
    "v_init_eq = solid_init.find_equilibrium(v)\n",
    "plot_torch_solid(solid_init, v_init_eq, be, rot, length_scale)"
   ]
  },
  {
   "cell_type": "code",
   "execution_count": null,
   "metadata": {},
   "outputs": [],
   "source": [
    "plt.figure(figsize=(10, 6))\n",
    "plt.plot(to_numpy(optimizer.objectives[optimizer.objectives > 0]),label=\"Full objective\")\n",
    "plt.plot(to_numpy(optimizer.obj_target[optimizer.objectives > 0]),label=\"Target objective\")\n",
    "plt.plot(to_numpy(optimizer.obj_reg[optimizer.objectives > 0]),label=\"Regularization objective\")\n",
    "plt.title(\"Objective as optimization goes\", fontsize=14)\n",
    "plt.xlabel(\"Optimization steps\", fontsize=12)\n",
    "plt.ylabel(\"Objective\", fontsize=12)\n",
    "plt.legend()\n",
    "plt.grid()\n",
    "plt.show()"
   ]
  },
  {
   "cell_type": "markdown",
   "metadata": {},
   "source": [
    "Green (Initial guess for rest state) deploys to Black\n",
    "\n",
    "Blue (Optimized rest state) deploys to Yellow\n",
    "\n",
    "Red is the Target Shape\n"
   ]
  },
  {
   "cell_type": "code",
   "execution_count": null,
   "metadata": {},
   "outputs": [],
   "source": [
    "p = mp.plot(to_numpy(optimizer.v_eq @ rot.T), to_numpy(t), shading=shadingOptions)\n",
    "# p.add_points(np.array(optimizer.solid.v_def)[pin_idx, :] @ rot.T, shading={\"point_color\":\"black\", \"point_size\": 0.2})\n",
    "p.add_edges(np.array(v_init_rest @ rot.T), be, shading={\"line_color\": \"green\"})\n",
    "p.add_edges(v @ rot.T, be, shading={\"line_color\": \"red\"})\n",
    "p.add_edges(to_numpy(v_eq_init @ rot.T), be, shading={\"line_color\": \"black\"})\n",
    "p.add_edges(to_numpy(optimizer.solid.v_rest @ rot.T), be, shading={\"line_color\": \"blue\"})\n"
   ]
  },
  {
   "cell_type": "code",
   "execution_count": null,
   "metadata": {},
   "outputs": [],
   "source": [
    "v_rest_optim_g = optimizer.solid.v_rest.clone().detach() #bookkeeping"
   ]
  },
  {
   "cell_type": "markdown",
   "metadata": {},
   "source": [
    "## Add point load to the right most vertices\n"
   ]
  },
  {
   "cell_type": "code",
   "execution_count": null,
   "metadata": {},
   "outputs": [],
   "source": [
    "maxX        = torch.min(v[:, 0])\n",
    "f_point_idx = torch.arange(v.shape[0])[v[:, 0] > maxX - 0.01*aabb[0]]\n",
    "\n",
    "f_point = torch.zeros(size=(f_point_idx.shape[0], 3))\n",
    "f_point[:, 2] = -100\n",
    "\n",
    "optimizer.solid.add_point_load(f_point_idx, f_point)\n",
    "optimizer.set_params(optimizer.params)\n",
    "v_def_optim_g_under_point = optimizer.v_eq.clone().detach() #bookkeeping\n",
    "\n",
    "optimizer.reset_BFGS()\n",
    "optimizer.reset_plot()"
   ]
  },
  {
   "cell_type": "code",
   "execution_count": null,
   "metadata": {},
   "outputs": [],
   "source": [
    "optimizer.optimize(step_size_init=2.0e-2, max_l_iter=10, n_optim_steps=100)"
   ]
  },
  {
   "cell_type": "markdown",
   "metadata": {},
   "source": [
    "Green (Optimum rest state under gravity) deploys to Black with the additional point load\n",
    "\n",
    "Blue (Optimized rest state) deploys to Yellow\n",
    "\n",
    "Red is the Target Shape\n"
   ]
  },
  {
   "cell_type": "code",
   "execution_count": null,
   "metadata": {},
   "outputs": [],
   "source": [
    "p = mp.plot(to_numpy(optimizer.v_eq @ rot.T), to_numpy(t), shading=shadingOptions)\n",
    "# p.add_points(np.array(optimizer.solid.v_def)[pin_idx, :] @ rot.T, shading={\"point_color\":\"black\", \"point_size\": 0.2})\n",
    "p.add_edges(to_numpy(v_rest_optim_g @ rot.T), be, shading={\"line_color\": \"green\"})\n",
    "p.add_edges(v @ rot.T, be, shading={\"line_color\": \"red\"})\n",
    "p.add_edges(to_numpy(v_def_optim_g_under_point @ rot.T), be, shading={\"line_color\": \"black\"})\n",
    "p.add_edges(to_numpy(optimizer.solid.v_rest @ rot.T), be, shading={\"line_color\": \"blue\"})\n"
   ]
  }
 ],
 "metadata": {
  "kernelspec": {
   "display_name": "Python 3 (ipykernel)",
   "language": "python",
   "name": "python3"
  },
  "language_info": {
   "codemirror_mode": {
    "name": "ipython",
    "version": 3
   },
   "file_extension": ".py",
   "mimetype": "text/x-python",
   "name": "python",
   "nbconvert_exporter": "python",
   "pygments_lexer": "ipython3",
   "version": "3.10.6"
  },
  "toc": {
   "base_numbering": 1,
   "nav_menu": {},
   "number_sections": true,
   "sideBar": true,
   "skip_h1_title": false,
   "title_cell": "Table of Contents",
   "title_sidebar": "Contents",
   "toc_cell": false,
   "toc_position": {},
   "toc_section_display": true,
   "toc_window_display": false
  }
 },
 "nbformat": 4,
 "nbformat_minor": 4
}
