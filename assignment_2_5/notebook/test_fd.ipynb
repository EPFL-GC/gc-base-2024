{
 "cells": [
  {
   "cell_type": "markdown",
   "metadata": {},
   "source": [
    "# Description\n",
    "\n",
    "This notebook can be used to test the implementation of the elastic energy, the elastic forces, and the force differentials.\n",
    "\n",
    "# Load libraries"
   ]
  },
  {
   "cell_type": "code",
   "execution_count": null,
   "metadata": {},
   "outputs": [],
   "source": [
    "import numpy as np\n",
    "import igl\n",
    "import meshplot as mp\n",
    "import time\n",
    "import torch\n",
    "\n",
    "import sys as _sys\n",
    "_sys.path.append(\"../src\")\n",
    "from create_vol_cube import *\n",
    "from elastic_energy import *\n",
    "from fem_system import *\n",
    "from shape_optimizer import *\n",
    "from utils import *\n",
    "from vis_utils import *\n",
    "from matplotlib import gridspec\n",
    "import matplotlib.pyplot as plt\n",
    "\n",
    "torch.set_default_dtype(torch.float64)\n",
    "\n",
    "shadingOptions = {\n",
    "    \"flat\":True,\n",
    "    \"wireframe\":False,   \n",
    "}\n",
    "\n",
    "rot = torch.tensor(\n",
    "    [[1.0,  0.0, 0.0],\n",
    "     [0.0,  0.0, 1.0],\n",
    "     [0.0, -1.0, 0.0]]\n",
    ")"
   ]
  },
  {
   "cell_type": "markdown",
   "metadata": {},
   "source": [
    "# Load mesh\n",
    "\n",
    "Several meshes are available for you to play with under `data/`: `ball.obj`, `dinosaur.obj`, and `beam.obj`."
   ]
  },
  {
   "cell_type": "code",
   "execution_count": null,
   "metadata": {},
   "outputs": [],
   "source": [
    "v, _, _, t, _, _ = igl.read_obj(\"../data/beam.obj\")\n",
    "v, t = create_vol_cube(5, 3, 3)\n",
    "v = torch.tensor(v)\n",
    "t = torch.tensor(t)\n",
    "\n",
    "aabb = torch.max(v, dim=0).values - torch.min(v, dim=0).values\n",
    "length_scale = torch.mean(aabb)\n",
    "\n",
    "# bv = np.unique(igl.boundary_facets(to_numpy(t))).astype(np.int64)\n",
    "bv = torch.argwhere(\n",
    "    torch.logical_or(\n",
    "        torch.min(torch.abs(v - torch.max(v, dim=0).values.reshape(1, -1)), dim=1).values < 1.0e-4,\n",
    "        torch.min(torch.abs(v - torch.min(v, dim=0).values.reshape(1, -1)), dim=1).values < 1.0e-4\n",
    "    )\n",
    ").reshape(-1,)\n",
    "vt_surf = v[bv, :].clone()\n",
    "e = igl.edges(to_numpy(t))\n",
    "iv = np.array([idx for idx in range(v.shape[0]) if not idx in bv]).astype(np.int64)\n",
    "be = np.array([edge for edge in e if (edge[0] in bv and edge[1] in bv)])\n",
    "convertBV = {bv[i].item():i for i in range(bv.shape[0])}\n",
    "beTarget = np.array([[convertBV[bEdge[0]], convertBV[bEdge[1]]] for bEdge in be])"
   ]
  },
  {
   "cell_type": "markdown",
   "metadata": {},
   "source": [
    "# Linear/Non-Linear Elastic Solid\n",
    "\n",
    "## Instantiation\n",
    "\n",
    "We first specify the elasticity model to use for the elastic solid, as well as pinned vertices, and volumetric forces."
   ]
  },
  {
   "cell_type": "code",
   "execution_count": null,
   "metadata": {},
   "outputs": [],
   "source": [
    "rho     = 131.0  # [kg.m-3]\n",
    "young   = 1.0e7 # [Pa] \n",
    "poisson = 0.2\n",
    "force_mass = torch.zeros(size=(3,))\n",
    "force_mass[2] = - 9.81\n",
    "\n",
    "minX    = torch.min(v[:, 0])\n",
    "pin_idx = torch.arange(v.shape[0])[v[:, 0] < minX + 0.2*aabb[0]].tolist()\n",
    "\n",
    "# ee    = LinearElasticEnergy(young, poisson)\n",
    "ee    = NeoHookeanElasticEnergy(young, poisson)\n",
    "solid = FEMSystem(v, t, ee, rho=rho, pin_idx=pin_idx, f_mass=force_mass)\n"
   ]
  },
  {
   "cell_type": "markdown",
   "metadata": {},
   "source": [
    "# Validate Elastic Energy Gradient (Elastic Forces) using Finite Differences on Elastic Energy"
   ]
  },
  {
   "cell_type": "code",
   "execution_count": null,
   "metadata": {},
   "outputs": [],
   "source": [
    "fd_validation_elastic(solid, v.clone())"
   ]
  },
  {
   "cell_type": "markdown",
   "metadata": {},
   "source": [
    "# Validate External Energy Gradient (External Forces) using Finite Differences on External Energy"
   ]
  },
  {
   "cell_type": "code",
   "execution_count": null,
   "metadata": {},
   "outputs": [],
   "source": [
    "maxX        = torch.max(v[:, 0])\n",
    "f_point_idx = torch.arange(v.shape[0])[v[:, 0] > maxX - 0.01*aabb[0]]\n",
    "\n",
    "f_point = torch.zeros(size=(f_point_idx.shape[0], 3))\n",
    "f_point[:, 2] = -5.0e3\n",
    "f_point[:, 2] = 0.0\n",
    "\n",
    "solid.add_point_load(f_point_idx, f_point)\n",
    "fd_validation_ext(solid, v.clone())"
   ]
  },
  {
   "cell_type": "markdown",
   "metadata": {},
   "source": [
    "# Validate Elastic Energy Force Differentials (Elastic Forces) using Finite Differences on Elastic Forces"
   ]
  },
  {
   "cell_type": "code",
   "execution_count": null,
   "metadata": {},
   "outputs": [],
   "source": [
    "fd_validation_elastic_differentials(solid, v.clone())"
   ]
  }
 ],
 "metadata": {
  "kernelspec": {
   "display_name": "Python 3 (ipykernel)",
   "language": "python",
   "name": "python3"
  },
  "language_info": {
   "codemirror_mode": {
    "name": "ipython",
    "version": 3
   },
   "file_extension": ".py",
   "mimetype": "text/x-python",
   "name": "python",
   "nbconvert_exporter": "python",
   "pygments_lexer": "ipython3",
   "version": "3.10.6"
  },
  "toc": {
   "base_numbering": 1,
   "nav_menu": {},
   "number_sections": true,
   "sideBar": true,
   "skip_h1_title": false,
   "title_cell": "Table of Contents",
   "title_sidebar": "Contents",
   "toc_cell": false,
   "toc_position": {},
   "toc_section_display": true,
   "toc_window_display": false
  }
 },
 "nbformat": 4,
 "nbformat_minor": 4
}
