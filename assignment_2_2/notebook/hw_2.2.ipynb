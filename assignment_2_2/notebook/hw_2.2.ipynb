{
 "cells": [
  {
   "cell_type": "markdown",
   "metadata": {},
   "source": [
    "# Description\n",
    "\n",
    "This notebook intends to gather all the functionalities you'll have to implement for assignment 2.2. You will have to generate an elastic solid, deform it, compute the associated Jacobian of the deformation map $\\phi$, and implement pinning constraints. You will also visualize the eigenvectors and eigenvalues of the metric tensor, given a prescribed deformation.\n",
    "\n",
    "# Load libraries"
   ]
  },
  {
   "cell_type": "code",
   "execution_count": null,
   "metadata": {},
   "outputs": [],
   "source": [
    "import torch\n",
    "import igl\n",
    "import meshplot as mp\n",
    "\n",
    "import sys as _sys\n",
    "_sys.path.append(\"../src\")\n",
    "\n",
    "from create_vol_cube import create_vol_cube\n",
    "from fem_system import *\n",
    "from eigendecomposition_metric import *\n",
    "\n",
    "shadingOptions = {\n",
    "    \"flat\":True,\n",
    "    \"wireframe\":False,   \n",
    "}\n",
    "\n",
    "rot = torch.tensor(\n",
    "    [[1.0,  0.0, 0.0],\n",
    "     [0.0,  0.0, 1.0],\n",
    "     [0.0, -1.0, 0.0]]\n",
    ")"
   ]
  },
  {
   "cell_type": "markdown",
   "metadata": {},
   "source": [
    "# Load mesh\n",
    "\n",
    "Several meshes are available for you to play with under `data/`: `ball.obj`, `dinosaur.obj`, and `beam.obj`. You can also uncomment the few commented lines below to manipulate a simple mesh made out of 2 tetrahedra."
   ]
  },
  {
   "cell_type": "code",
   "execution_count": null,
   "metadata": {},
   "outputs": [],
   "source": [
    "v, _, _, t, _, _ = igl.read_obj(\"../data/dinosaur.obj\")\n",
    "v = torch.tensor(v)\n",
    "t = torch.tensor(t)\n",
    "\n",
    "# v, t = create_vol_cube(10, 3, 3)\n",
    "# v = torch.tensor(v) * torch.tensor([10.0, 2.0, 2.0]).reshape(1, -1)\n",
    "# t = torch.tensor(t)\n",
    "\n",
    "# t = torch.tensor([\n",
    "#         [0, 1, 2, 3],\n",
    "#         [1, 2, 3, 4]\n",
    "#     ])\n",
    "# v = torch.tensor([\n",
    "#     [0.0, 0.0, 0.0],\n",
    "#     [1.0, 0.0, 0.0],\n",
    "#     [0.0, 1.0, 0.0],\n",
    "#     [0.0, 0.0, 1.0],\n",
    "#     [2/3, 2/3, 2/3]\n",
    "# ])\n",
    "\n",
    "aabb = torch.max(v, dim=0).values - torch.min(v, dim=0).values\n",
    "length_scale = torch.mean(aabb)\n",
    "\n",
    "be = igl.edges(igl.boundary_facets(to_numpy(t)))\n",
    "e = igl.edges(to_numpy(t))\n",
    "\n",
    "p = mp.plot(to_numpy(v @ rot.T), to_numpy(t), shading=shadingOptions)"
   ]
  },
  {
   "cell_type": "markdown",
   "metadata": {},
   "source": [
    "# Manipulate elastic solids\n",
    "\n",
    "## Instantiation\n",
    "\n",
    "The rest shape matrices $D_m$ and their inverse matrices $B_m$ are computed during instanciation."
   ]
  },
  {
   "cell_type": "code",
   "execution_count": null,
   "metadata": {},
   "outputs": [],
   "source": [
    "rho   = 131.0  # [kg.m-3]\n",
    "solid = FEMSystem(v, t, rho=rho)"
   ]
  },
  {
   "cell_type": "markdown",
   "metadata": {},
   "source": [
    "## Deform the mesh\n",
    "\n",
    "Jacobian computation which relies on deformed shape matrices $D_s$."
   ]
  },
  {
   "cell_type": "code",
   "execution_count": null,
   "metadata": {},
   "outputs": [],
   "source": [
    "v_def = v.clone()\n",
    "v_def[:, 2] *= 2.0\n",
    "v_def_pinned = solid.compute_pinned_deformation(v_def)\n",
    "jac = solid.compute_jacobians(v_def_pinned)\n",
    "print(\"Shape of the jacobians: {}\".format(list(jac.shape)))\n",
    "\n",
    "mp.plot(to_numpy(v_def_pinned @ rot.T), to_numpy(t), shading=shadingOptions)"
   ]
  },
  {
   "cell_type": "markdown",
   "metadata": {},
   "source": [
    "## Visualize some properties of the metric tensor\n",
    "\n",
    "The metric tensor measures how stretched and sheared directions in the undeformed space are under the deformation $\\phi$. It is defined from the Jacobian of the deformation $\\mathbf{F}$ as follow (see the handout for a derivation):\n",
    "\n",
    "$$\\mathbf{M} = \\mathbf{F}^{\\top} \\mathbf{F}$$\n",
    "\n",
    "We intend to plot the eigenvectors coloured by the corresponding eigenvalues in the next cell."
   ]
  },
  {
   "cell_type": "code",
   "execution_count": null,
   "metadata": {},
   "outputs": [],
   "source": [
    "# We limit ourselves to stretching the mesh in the z direction\n",
    "# Feel free to experiment with other kinds of deformations!\n",
    "\n",
    "v_def = v.clone()\n",
    "v_def[:, 2] *= 2.0\n",
    "v_def_pinned = solid.compute_pinned_deformation(v_def)\n",
    "jac = solid.compute_jacobians(v_def_pinned)\n",
    "\n",
    "square_root_eigvals, eigvecs = compute_eigendecomposition_metric(jac)\n",
    "plot_eigendecomposition_metric(solid, v_def_pinned, square_root_eigvals, eigvecs, rot, scale=0.1)"
   ]
  },
  {
   "cell_type": "markdown",
   "metadata": {},
   "source": [
    "## Pin vertices of the mesh\n",
    "\n",
    "Pass a `pin_idx` to the constructor, compute the mask for deformations."
   ]
  },
  {
   "cell_type": "code",
   "execution_count": null,
   "metadata": {},
   "outputs": [],
   "source": [
    "maxZ = torch.max(solid.v_rest[:, 2])\n",
    "pin_idx = list(torch.arange(solid.v_rest.shape[0])[solid.v_rest[:, 2] > maxZ - 0.1 * aabb[2]])\n",
    "\n",
    "v_def = v.clone()\n",
    "v_def[:, 2] -= 0.1 * aabb[2]\n",
    "\n",
    "solid_pinned = FEMSystem(v, t, rho=rho, pin_idx=pin_idx)\n",
    "v_def_pinned = solid_pinned.compute_pinned_deformation(v_def)"
   ]
  },
  {
   "cell_type": "code",
   "execution_count": null,
   "metadata": {},
   "outputs": [],
   "source": [
    "p = mp.plot(to_numpy(v_def_pinned @ rot.T), to_numpy(t), shading=shadingOptions)\n",
    "p.add_points(to_numpy(v_def_pinned[pin_idx, :] @ rot.T), shading={\"point_color\":\"black\", \"point_size\": 0.1 * length_scale})"
   ]
  },
  {
   "cell_type": "code",
   "execution_count": null,
   "metadata": {},
   "outputs": [],
   "source": []
  }
 ],
 "metadata": {
  "kernelspec": {
   "display_name": "Python 3 (ipykernel)",
   "language": "python",
   "name": "python3"
  },
  "language_info": {
   "codemirror_mode": {
    "name": "ipython",
    "version": 3
   },
   "file_extension": ".py",
   "mimetype": "text/x-python",
   "name": "python",
   "nbconvert_exporter": "python",
   "pygments_lexer": "ipython3",
   "version": "3.9.18"
  },
  "toc": {
   "base_numbering": 1,
   "nav_menu": {},
   "number_sections": true,
   "sideBar": true,
   "skip_h1_title": false,
   "title_cell": "Table of Contents",
   "title_sidebar": "Contents",
   "toc_cell": false,
   "toc_position": {},
   "toc_section_display": true,
   "toc_window_display": false
  }
 },
 "nbformat": 4,
 "nbformat_minor": 4
}
