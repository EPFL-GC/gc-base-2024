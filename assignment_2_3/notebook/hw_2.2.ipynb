{
 "cells": [
  {
   "cell_type": "markdown",
   "metadata": {},
   "source": [
    "# Description\n",
    "\n",
    "This notebook intends to gather all the functionalities you'll have to implement for assignment 2.2.\n",
    "\n",
    "# Load libraries"
   ]
  },
  {
   "cell_type": "code",
   "execution_count": 1,
   "metadata": {},
   "outputs": [],
   "source": [
    "import torch\n",
    "import igl\n",
    "import meshplot as mp\n",
    "import time\n",
    "\n",
    "import sys as _sys\n",
    "_sys.path.append(\"../src_solution\")\n",
    "from create_vol_cube import create_vol_cube\n",
    "from fem_system import *\n",
    "from elastic_energy import *\n",
    "from utils import *\n",
    "from matplotlib import gridspec\n",
    "import matplotlib.pyplot as plt\n",
    "\n",
    "shadingOptions = {\n",
    "    \"flat\":True,\n",
    "    \"wireframe\":False,   \n",
    "}\n",
    "\n",
    "rot = torch.tensor(\n",
    "    [[1.0,  0.0, 0.0],\n",
    "     [0.0,  0.0, 1.0],\n",
    "     [0.0, -1.0, 0.0]]\n",
    ")"
   ]
  },
  {
   "cell_type": "markdown",
   "metadata": {},
   "source": [
    "# Load mesh\n",
    "\n",
    "Several meshes are available for you to play with under `data/`: `ball.obj`, `dinosaur.obj`, and `beam.obj`. You can also uncomment the few commented lines below to manipulate a simple mesh made out of 2 tetrahedra."
   ]
  },
  {
   "cell_type": "code",
   "execution_count": 2,
   "metadata": {
    "scrolled": false
   },
   "outputs": [],
   "source": [
    "# v, _, _, t, _, _ = igl.read_obj(\"../data/dinosaur.obj\")\n",
    "# v, _, _, t, _, _ = igl.read_obj(\"../data/beam.obj\")\n",
    "# v = torch.tensor(v)\n",
    "# t = torch.tensor(t)\n",
    "\n",
    "v, t = create_vol_cube(10, 3, 3)\n",
    "v = torch.tensor(v) * torch.tensor([10.0, 2.0, 2.0]).reshape(1, -1)\n",
    "t = torch.tensor(t)\n",
    "\n",
    "# t = torch.tensor([\n",
    "#         [0, 1, 2, 3],\n",
    "#         [1, 2, 3, 4]\n",
    "#     ])\n",
    "# v = torch.tensor([\n",
    "#     [0.0, 0.0, 0.0],\n",
    "#     [1.0, 0.0, 0.0],\n",
    "#     [0.0, 1.0, 0.0],\n",
    "#     [0.0, 0.0, 1.0],\n",
    "#     [2/3, 2/3, 2/3]\n",
    "# ])\n",
    "\n",
    "\n",
    "be = igl.edges(igl.boundary_facets(to_numpy(t)))\n",
    "e = igl.edges(to_numpy(t))\n",
    "\n",
    "aabb = torch.max(v, dim=0).values - torch.min(v, dim=0).values\n",
    "length_scale = torch.mean(aabb)\n",
    "\n",
    "# p = mp.plot(to_numpy(v @ rot.T), to_numpy(t), shading=shadingOptions)"
   ]
  },
  {
   "cell_type": "markdown",
   "metadata": {},
   "source": [
    "# Linear/Non-Linear Elastic Solid\n",
    "\n",
    "## Instantiation\n",
    "\n",
    "We first specify the elasticity model to use for the elastic solid, as well as pinned vertices, and volumetric forces."
   ]
  },
  {
   "cell_type": "code",
   "execution_count": 3,
   "metadata": {},
   "outputs": [],
   "source": [
    "rho     = 131.0  # [kg.m-3]\n",
    "young   = 1.0e7 # [Pa] \n",
    "poisson = 0.2\n",
    "force_mass = torch.zeros(size=(3,))\n",
    "force_mass[2] = - rho * 9.81\n",
    "\n",
    "minX    = torch.min(v[:, 0])\n",
    "pin_idx = list(torch.arange(v.shape[0])[v[:, 0] < minX + 0.2*aabb[0]])\n",
    "\n",
    "# ee    = LinearElasticEnergy(young, poisson)\n",
    "ee    = NeoHookeanElasticEnergy(young, poisson)\n",
    "solid = FEMSystem(v, t, ee, rho=rho, pin_idx=pin_idx, f_mass=force_mass)\n",
    "\n",
    "weight = solid.rho * torch.sum(solid.W0) * 9.81"
   ]
  },
  {
   "cell_type": "markdown",
   "metadata": {},
   "source": [
    "## Deform the mesh\n",
    "\n",
    "This should now involve elastic forces computation."
   ]
  },
  {
   "cell_type": "code",
   "execution_count": 4,
   "metadata": {
    "scrolled": false
   },
   "outputs": [
    {
     "data": {
      "application/vnd.jupyter.widget-view+json": {
       "model_id": "0dd4be22552a4356ab195d88e06a0cb9",
       "version_major": 2,
       "version_minor": 0
      },
      "text/plain": [
       "Renderer(camera=PerspectiveCamera(children=(DirectionalLight(color='white', intensity=0.6, position=(10.0, 1.0…"
      ]
     },
     "metadata": {},
     "output_type": "display_data"
    },
    {
     "data": {
      "text/plain": [
       "3"
      ]
     },
     "execution_count": 4,
     "metadata": {},
     "output_type": "execute_result"
    }
   ],
   "source": [
    "solid = FEMSystem(v, t, ee, rho=rho, pin_idx=pin_idx, f_mass=force_mass)\n",
    "\n",
    "v_def = v.clone()\n",
    "v_def[:, 0] *= 2.0\n",
    "v_def_pinned = solid.compute_pinned_deformation(v_def)\n",
    "jac = solid.compute_jacobians(v_def)\n",
    "f_vol, f_ext = solid.compute_volumetric_and_external_forces()\n",
    "\n",
    "p = mp.plot(to_numpy(v_def_pinned @ rot.T), to_numpy(solid.tet), shading=shadingOptions)\n",
    "p.add_points(to_numpy(v_def_pinned[solid.pin_idx, :] @ rot.T), shading={\"point_color\":\"black\", \"point_size\": 0.2 * length_scale})\n",
    "forcesScale = 2.0 * torch.max(torch.linalg.norm(f_ext, axis=1))\n",
    "p.add_lines(to_numpy(v_def_pinned @ rot.T), (v_def_pinned + f_ext / forcesScale) @ rot.T)\n",
    "p.add_edges(to_numpy(v @ rot.T), be, shading={\"line_color\": \"blue\"})\n"
   ]
  },
  {
   "cell_type": "markdown",
   "metadata": {},
   "source": [
    "## Find equilibrium\n",
    "\n",
    "We compare different methods: number of steps, computation time."
   ]
  },
  {
   "cell_type": "code",
   "execution_count": 5,
   "metadata": {},
   "outputs": [],
   "source": [
    "n_steps = 5000\n",
    "thresh  = 1.0e-1 * weight\n",
    "v_init = v.clone()"
   ]
  },
  {
   "cell_type": "markdown",
   "metadata": {},
   "source": [
    "## Gradient descent"
   ]
  },
  {
   "cell_type": "code",
   "execution_count": 6,
   "metadata": {},
   "outputs": [
    {
     "data": {
      "application/vnd.jupyter.widget-view+json": {
       "model_id": "fa66b99c012548748666297bd5a3879d",
       "version_major": 2,
       "version_minor": 0
      },
      "text/plain": [
       "Renderer(camera=PerspectiveCamera(children=(DirectionalLight(color='white', intensity=0.6, position=(4.1340160…"
      ]
     },
     "metadata": {},
     "output_type": "display_data"
    },
    {
     "data": {
      "text/plain": [
       "3"
      ]
     },
     "execution_count": 6,
     "metadata": {},
     "output_type": "execute_result"
    }
   ],
   "source": [
    "report_GD = equilibrium_convergence_report_GD(solid, v_init, n_steps, 2.0e-5, thresh=thresh)\n",
    "energies_el_GD  = report_GD['energies_el']\n",
    "energies_ext_GD = report_GD['energies_ext']\n",
    "energy_GD       = energies_el_GD + energies_ext_GD\n",
    "residuals_GD    = report_GD['residuals']\n",
    "times_GD        = report_GD['times']\n",
    "idx_stop_GD     = report_GD['idx_stop']\n",
    "v_def_GD        = report_GD['final_def'].clone()\n",
    "\n",
    "_, f_ext_GD = solid.compute_volumetric_and_external_forces()\n",
    "\n",
    "# Lastly, plot the resulting shape\n",
    "p = mp.plot(to_numpy(v_def_GD @ rot.T), to_numpy(solid.tet), shading=shadingOptions)\n",
    "forcesScale = 2.0 * torch.max(torch.linalg.norm(f_ext, axis=1))\n",
    "p.add_lines(to_numpy(v_def_GD @ rot.T), (v_def_GD + f_ext_GD / forcesScale) @ rot.T)\n",
    "p.add_points(to_numpy(v_def_GD[pin_idx, :] @ rot.T), shading={\"point_color\":\"black\", \"point_size\": 0.1 * length_scale})\n",
    "p.add_edges(to_numpy(v @ rot.T), be, shading={\"line_color\": \"blue\"})"
   ]
  },
  {
   "cell_type": "markdown",
   "metadata": {},
   "source": [
    "## BFGS\n"
   ]
  },
  {
   "cell_type": "code",
   "execution_count": 22,
   "metadata": {},
   "outputs": [
    {
     "data": {
      "application/vnd.jupyter.widget-view+json": {
       "model_id": "4e04182789844056b704c8d17536ce38",
       "version_major": 2,
       "version_minor": 0
      },
      "text/plain": [
       "Renderer(camera=PerspectiveCamera(children=(DirectionalLight(color='white', intensity=0.6, position=(3.9207222…"
      ]
     },
     "metadata": {},
     "output_type": "display_data"
    },
    {
     "data": {
      "text/plain": [
       "3"
      ]
     },
     "execution_count": 22,
     "metadata": {},
     "output_type": "execute_result"
    }
   ],
   "source": [
    "%run ../src_solution/utils.py\n",
    "\n",
    "report_BFGS = equilibrium_convergence_report_BFGS(solid, v_init, n_steps, 1.0e-7, thresh=thresh)\n",
    "energies_el_BFGS  = report_BFGS['energies_el']\n",
    "energies_ext_BFGS = report_BFGS['energies_ext']\n",
    "energy_BFGS       = energies_el_BFGS + energies_ext_BFGS\n",
    "residuals_BFGS    = report_BFGS['residuals']\n",
    "times_BFGS        = report_BFGS['times']\n",
    "idx_stop_BFGS     = report_BFGS['idx_stop']\n",
    "v_def_BFGS        = report_BFGS['final_def'].clone()\n",
    "invB_final_BFGS   = report_BFGS['invB_final']\n",
    "u, s, vt = torch.linalg.svd(invB_final)\n",
    "scaledSV = s * weight\n",
    "\n",
    "_, f_ext_BFGS = solid.compute_volumetric_and_external_forces()\n",
    "\n",
    "# Lastly, plot the resulting shape\n",
    "p = mp.plot(to_numpy(v_def_BFGS @ rot.T), to_numpy(solid.tet), shading=shadingOptions)\n",
    "forcesScale = 2.0 * torch.max(torch.linalg.norm(f_ext, axis=1))\n",
    "p.add_lines(to_numpy(v_def_BFGS @ rot.T), (v_def_BFGS + f_ext_BFGS / forcesScale) @ rot.T)\n",
    "p.add_points(to_numpy(v_def_BFGS[pin_idx, :] @ rot.T), shading={\"point_color\":\"black\", \"point_size\": 0.1 * length_scale})\n",
    "p.add_edges(to_numpy(v @ rot.T), be, shading={\"line_color\": \"blue\"})\n"
   ]
  },
  {
   "cell_type": "markdown",
   "metadata": {},
   "source": [
    "## Compare the different algorithms"
   ]
  },
  {
   "cell_type": "code",
   "execution_count": 20,
   "metadata": {},
   "outputs": [
    {
     "data": {
      "image/png": "[encoded data removed]",
      "text/plain": [
       "<Figure size 720x432 with 1 Axes>"
      ]
     },
     "metadata": {
      "needs_background": "light"
     },
     "output_type": "display_data"
    }
   ],
   "source": [
    "cmap   = plt.get_cmap('viridis')\n",
    "colors = cmap(torch.linspace(0.0, 1.0, 4))\n",
    "\n",
    "gs = gridspec.GridSpec(nrows=1, ncols=1, width_ratios=[1], height_ratios=[1])\n",
    "fig = plt.figure(figsize=(10, 6))\n",
    "\n",
    "axTmp = plt.subplot(gs[0, 0])\n",
    "axTmp.plot(times_GD[:idx_stop_GD+1], 100.0 * residuals_GD[:idx_stop_GD+1] / weight, c=colors[0], \n",
    "           label=\"Gradient Descent ({:}its)\".format(idx_stop_GD))\n",
    "axTmp.plot(times_BFGS[:idx_stop_BFGS+1], 100.0*residuals_BFGS[:idx_stop_BFGS+1] / weight, c=colors[2], \n",
    "           label=\"BFGS ({:}its)\".format(idx_stop_BFGS))\n",
    "y_lim = axTmp.get_ylim()\n",
    "axTmp.set_title(\"Residuals as optimization goes\", fontsize=14)\n",
    "axTmp.set_xlabel(\"Computation time [s]\", fontsize=12)\n",
    "axTmp.set_ylabel(\"Force residuals (% of weight)\", fontsize=12)\n",
    "axTmp.set_ylim(y_lim)\n",
    "plt.legend(fontsize=12)\n",
    "plt.grid()\n",
    "plt.show()"
   ]
  },
  {
   "cell_type": "code",
   "execution_count": 21,
   "metadata": {},
   "outputs": [
    {
     "data": {
      "image/png": "[encoded data removed]",
      "text/plain": [
       "<Figure size 720x432 with 1 Axes>"
      ]
     },
     "metadata": {
      "needs_background": "light"
     },
     "output_type": "display_data"
    }
   ],
   "source": [
    "gs = gridspec.GridSpec(nrows=1, ncols=1, width_ratios=[1], height_ratios=[1])\n",
    "fig = plt.figure(figsize=(10, 6))\n",
    "\n",
    "axTmp = plt.subplot(gs[0, 0])\n",
    "axTmp.plot(times_GD[:idx_stop_GD+1], energy_GD[:idx_stop_GD+1], c=colors[0], \n",
    "           label=\"Gradient Descent ({:}its)\".format(idx_stop_GD))\n",
    "axTmp.plot(times_BFGS[:idx_stop_BFGS+1], energy_BFGS[:idx_stop_BFGS+1], c=colors[2], \n",
    "           label=\"BFGS ({:}its)\".format(idx_stop_BFGS))\n",
    "y_lim = axTmp.get_ylim()\n",
    "axTmp.set_title(\"Total energy as optimization goes\", fontsize=14)\n",
    "axTmp.set_xlabel(\"Computation time [s]\", fontsize=12)\n",
    "axTmp.set_ylabel(\"Energy [J]\", fontsize=12)\n",
    "axTmp.set_ylim(y_lim)\n",
    "plt.legend(fontsize=12)\n",
    "plt.grid()\n",
    "plt.show()"
   ]
  },
  {
   "cell_type": "code",
   "execution_count": null,
   "metadata": {},
   "outputs": [],
   "source": []
  }
 ],
 "metadata": {
  "kernelspec": {
   "display_name": "Python 3 (ipykernel)",
   "language": "python",
   "name": "python3"
  },
  "language_info": {
   "codemirror_mode": {
    "name": "ipython",
    "version": 3
   },
   "file_extension": ".py",
   "mimetype": "text/x-python",
   "name": "python",
   "nbconvert_exporter": "python",
   "pygments_lexer": "ipython3",
   "version": "3.10.12"
  },
  "toc": {
   "base_numbering": 1,
   "nav_menu": {},
   "number_sections": true,
   "sideBar": true,
   "skip_h1_title": false,
   "title_cell": "Table of Contents",
   "title_sidebar": "Contents",
   "toc_cell": false,
   "toc_position": {},
   "toc_section_display": true,
   "toc_window_display": false
  }
 },
 "nbformat": 4,
 "nbformat_minor": 4
}
