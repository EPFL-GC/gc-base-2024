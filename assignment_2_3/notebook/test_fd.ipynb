{
 "cells": [
  {
   "cell_type": "markdown",
   "metadata": {},
   "source": [
    "# Description\n",
    "\n",
    "This notebook can be used to test the implementation of the elastic energy and the elastic forces.\n",
    "\n",
    "# Load libraries"
   ]
  },
  {
   "cell_type": "code",
   "execution_count": null,
   "metadata": {},
   "outputs": [],
   "source": [
    "import torch\n",
    "import igl\n",
    "import meshplot as mp\n",
    "import time\n",
    "\n",
    "import sys as _sys\n",
    "_sys.path.append(\"../src\")\n",
    "from fem_system import *\n",
    "from elastic_energy import *\n",
    "from utils import *\n",
    "from matplotlib import gridspec\n",
    "import matplotlib.pyplot as plt\n",
    "\n",
    "shadingOptions = {\n",
    "    \"flat\":True,\n",
    "    \"wireframe\":False,   \n",
    "}\n",
    "\n",
    "rot = torch.tensor(\n",
    "    [[1.0,  0.0, 0.0],\n",
    "     [0.0,  0.0, 1.0],\n",
    "     [0.0, -1.0, 0.0]]\n",
    ")"
   ]
  },
  {
   "cell_type": "markdown",
   "metadata": {},
   "source": [
    "# Load mesh\n",
    "\n",
    "Several meshes are available for you to play with under `data/`: `ball.obj`, `dinosaur.obj`, and `beam.obj`."
   ]
  },
  {
   "cell_type": "code",
   "execution_count": null,
   "metadata": {},
   "outputs": [],
   "source": [
    "v, _, _, t, _, _ = igl.read_obj(\"../data/beam.obj\")\n",
    "v = torch.tensor(v)\n",
    "t = torch.tensor(t)\n",
    "\n",
    "aabb = torch.max(v, dim=0).values - torch.min(v, dim=0).values\n",
    "length_scale = torch.mean(aabb)"
   ]
  },
  {
   "cell_type": "markdown",
   "metadata": {},
   "source": [
    "# Linear/Non-Linear Elastic Solid\n",
    "\n",
    "## Instantiation\n",
    "\n",
    "We first specify the elasticity model to use for the elastic solid, as well as pinned vertices, and volumetric forces."
   ]
  },
  {
   "cell_type": "code",
   "execution_count": null,
   "metadata": {},
   "outputs": [],
   "source": [
    "rho     = 131.0 # [kg.m-3]\n",
    "young   = 1.0e7 # [Pa] \n",
    "poisson = 0.2\n",
    "force_mass = torch.zeros(size=(3,))\n",
    "force_mass[2] = - rho * 9.81\n",
    "\n",
    "minX    = torch.min(v[:, 0])\n",
    "pin_idx = list(torch.arange(v.shape[0])[v[:, 0] < minX + 0.2*aabb[0]])\n",
    "\n",
    "ee    = LinearElasticEnergy(young, poisson)\n",
    "# ee    = NeoHookeanElasticEnergy(young, poisson)\n",
    "solid = FEMSystem(v, t, ee, rho=rho, pin_idx=pin_idx, f_mass=force_mass)\n"
   ]
  },
  {
   "cell_type": "markdown",
   "metadata": {},
   "source": [
    "# Validate Elastic Energy Gradient (Elastic Forces) using Finite Differences on Elastic Energy"
   ]
  },
  {
   "cell_type": "code",
   "execution_count": null,
   "metadata": {},
   "outputs": [],
   "source": [
    "fd_validation_elastic(solid, v.clone())"
   ]
  },
  {
   "cell_type": "markdown",
   "metadata": {},
   "source": [
    "# Validate External Energy Gradient (External Forces) using Finite Differences on External Energy"
   ]
  },
  {
   "cell_type": "code",
   "execution_count": null,
   "metadata": {},
   "outputs": [],
   "source": [
    "fd_validation_ext(solid, v.clone())"
   ]
  },
  {
   "cell_type": "code",
   "execution_count": null,
   "metadata": {},
   "outputs": [],
   "source": []
  }
 ],
 "metadata": {
  "kernelspec": {
   "display_name": "Python 3 (ipykernel)",
   "language": "python",
   "name": "python3"
  },
  "language_info": {
   "codemirror_mode": {
    "name": "ipython",
    "version": 3
   },
   "file_extension": ".py",
   "mimetype": "text/x-python",
   "name": "python",
   "nbconvert_exporter": "python",
   "pygments_lexer": "ipython3",
   "version": "3.9.18"
  },
  "toc": {
   "base_numbering": 1,
   "nav_menu": {},
   "number_sections": true,
   "sideBar": true,
   "skip_h1_title": false,
   "title_cell": "Table of Contents",
   "title_sidebar": "Contents",
   "toc_cell": false,
   "toc_position": {},
   "toc_section_display": true,
   "toc_window_display": false
  }
 },
 "nbformat": 4,
 "nbformat_minor": 4
}
