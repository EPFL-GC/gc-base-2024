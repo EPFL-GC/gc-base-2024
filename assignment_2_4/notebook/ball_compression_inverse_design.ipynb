{
 "cells": [
  {
   "cell_type": "markdown",
   "metadata": {},
   "source": [
    "# Description\n",
    "\n",
    "This notebook shows a way to solve an inverse problem parameterized with a single quantity.\n",
    "\n",
    "# Load libraries"
   ]
  },
  {
   "cell_type": "code",
   "execution_count": null,
   "metadata": {},
   "outputs": [],
   "source": [
    "import numpy as np\n",
    "import igl\n",
    "import meshplot as mp\n",
    "import time\n",
    "\n",
    "import sys as _sys\n",
    "_sys.path.append(\"../src\")\n",
    "from fem_system import *\n",
    "from elastic_energy import *\n",
    "from stretch_utils import *\n",
    "from matplotlib import gridspec\n",
    "import matplotlib.pyplot as plt\n",
    "\n",
    "shadingOptions = {\n",
    "    \"flat\":True,\n",
    "    \"wireframe\":False,   \n",
    "}\n",
    "\n",
    "rot = torch.tensor(\n",
    "    [[1.0,  0.0, 0.0],\n",
    "     [0.0,  0.0, 1.0],\n",
    "     [0.0, -1.0, 0.0]]\n",
    ")"
   ]
  },
  {
   "cell_type": "markdown",
   "metadata": {},
   "source": [
    "# Load mesh\n",
    "\n",
    "We will use the ball for the current experiment."
   ]
  },
  {
   "cell_type": "code",
   "execution_count": null,
   "metadata": {},
   "outputs": [],
   "source": [
    "v, _, _, t, _, _ = igl.read_obj(\"../data/ball.obj\")\n",
    "v = torch.tensor(v)\n",
    "t = torch.tensor(t)\n",
    "\n",
    "be = igl.edges(igl.boundary_facets(to_numpy(t)))\n",
    "bv = np.unique(igl.boundary_facets(to_numpy(t)))\n",
    "e  = igl.edges(to_numpy(t))\n",
    "\n",
    "aabb = torch.max(v, dim=0).values - torch.min(v, dim=0).values\n",
    "length_scale = torch.mean(aabb)\n",
    "\n",
    "# p = mp.plot(to_numpy(v @ rot.T), to_numpy(t), shading=shadingOptions)"
   ]
  },
  {
   "cell_type": "markdown",
   "metadata": {},
   "source": [
    "# Linear/Non-Linear Elastic Solid\n",
    "\n",
    "## Instantiation\n",
    "\n",
    "We first specify the elasticity model to use for the elastic solid, as well as pinned vertices, and volumetric forces."
   ]
  },
  {
   "cell_type": "code",
   "execution_count": null,
   "metadata": {},
   "outputs": [],
   "source": [
    "rho     = 131.0  # [kg.m-3]\n",
    "young   = 7.0e5 # [Pa] \n",
    "poisson = 0.2\n",
    "force_mass = torch.zeros(size=(3,))\n",
    "force_mass[2] = - rho * 9.81\n",
    "\n",
    "# Determines the pinned indices and the lowest pinned indext\n",
    "maxZ    = torch.max(v[:, 2])\n",
    "pin_idx = list(torch.arange(v.shape[0])[v[:, 2] > maxZ - 0.1*aabb[2]])\n",
    "lowest_pin_idx = torch.argsort(v[:, 2])[-len(pin_idx)-1]\n",
    "\n",
    "ee    = NeoHookeanElasticEnergy(young, poisson)\n",
    "solid = FEMSystem(v, t, ee, rho=rho, pin_idx=pin_idx, f_mass=force_mass)"
   ]
  },
  {
   "cell_type": "markdown",
   "metadata": {},
   "source": [
    "## Manually search for a solution"
   ]
  },
  {
   "cell_type": "code",
   "execution_count": null,
   "metadata": {
    "scrolled": true
   },
   "outputs": [],
   "source": [
    "n_search = 50\n",
    "n_steps  = 20\n",
    "thresh   = 1.0\n",
    "\n",
    "v_rest_init = v.clone()\n",
    "v_rest_tmp  = v.clone()\n",
    "v_target    = v.clone()[bv]\n",
    "\n",
    "stretches = np.linspace(0.55, 1.1, n_search)\n",
    "\n",
    "list_v_rest, list_v_eq, target_closeness = report_stretches(solid, v_rest_init, bv, v_target, stretches, lowest_pin_idx)\n"
   ]
  },
  {
   "cell_type": "code",
   "execution_count": null,
   "metadata": {},
   "outputs": [],
   "source": [
    "plt.plot(stretches, target_closeness)\n",
    "plt.title(\"Closeness to target\", fontsize=14)\n",
    "plt.xlabel(\"Stretch along $z$\", fontsize=12)\n",
    "plt.ylabel(\"Objective\", fontsize=12)\n",
    "plt.grid()\n"
   ]
  },
  {
   "cell_type": "markdown",
   "metadata": {},
   "source": [
    "# Plot best solution"
   ]
  },
  {
   "cell_type": "code",
   "execution_count": null,
   "metadata": {},
   "outputs": [],
   "source": [
    "min_stretch = stretches[torch.argmin(target_closeness)]\n",
    "\n",
    "stretch_diag = torch.tensor([1.0, 1.0, min_stretch])\n",
    "v_rest_opt  = list_v_rest[torch.argmin(target_closeness)]\n",
    "v_eq_opt    = list_v_eq[torch.argmin(target_closeness)]\n",
    "\n",
    "p = mp.plot(to_numpy(v_eq_opt @ rot.T), to_numpy(t), shading=shadingOptions)\n",
    "p.add_points(to_numpy(v_eq_opt[solid.pin_idx, :] @ rot.T), shading={\"point_color\":\"black\", \"point_size\": 0.1 * length_scale})\n",
    "p.add_edges(to_numpy(v_rest_opt @ rot.T), be, shading={\"line_color\": \"blue\"})\n",
    "p.add_edges(to_numpy(v_target @ rot.T), be, shading={\"line_color\": \"red\"})"
   ]
  },
  {
   "cell_type": "code",
   "execution_count": null,
   "metadata": {},
   "outputs": [],
   "source": []
  }
 ],
 "metadata": {
  "kernelspec": {
   "display_name": "Python 3",
   "language": "python",
   "name": "python3"
  },
  "language_info": {
   "codemirror_mode": {
    "name": "ipython",
    "version": 3
   },
   "file_extension": ".py",
   "mimetype": "text/x-python",
   "name": "python",
   "nbconvert_exporter": "python",
   "pygments_lexer": "ipython3",
   "version": "3.9.18"
  },
  "toc": {
   "base_numbering": 1,
   "nav_menu": {},
   "number_sections": true,
   "sideBar": true,
   "skip_h1_title": false,
   "title_cell": "Table of Contents",
   "title_sidebar": "Contents",
   "toc_cell": false,
   "toc_position": {},
   "toc_section_display": true,
   "toc_window_display": false
  }
 },
 "nbformat": 4,
 "nbformat_minor": 4
}
